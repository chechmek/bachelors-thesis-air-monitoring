{
 "cells": [
  {
   "cell_type": "code",
   "execution_count": 295,
   "metadata": {},
   "outputs": [],
   "source": [
    "import pandas as pd\n",
    "import numpy as np\n",
    "import matplotlib.pyplot as plt\n",
    "import numpy as np, pandas as pd, tensorflow as tf\n",
    "from sklearn.preprocessing import MinMaxScaler\n",
    "from sklearn.metrics import mean_absolute_error, mean_squared_error\n",
    "import joblib\n",
    "\n",
    "df = pd.read_csv('../data/iot_telemetry_data_processed.csv')\n"
   ]
  },
  {
   "cell_type": "code",
   "execution_count": 296,
   "metadata": {},
   "outputs": [],
   "source": [
    "# Convert 'ts' to datetime, sort, and set as index\n",
    "df['datetime_col'] = pd.to_datetime(df['ts'], unit='s')\n",
    "df = df.sort_values('datetime_col')\n",
    "df_indexed = df.set_index('datetime_col')"
   ]
  },
  {
   "cell_type": "code",
   "execution_count": null,
   "metadata": {},
   "outputs": [],
   "source": [
    "pm2_5_series = df_indexed['pm2_5']\n",
    "print(len(pm2_5_series))"
   ]
  },
  {
   "cell_type": "code",
   "execution_count": 298,
   "metadata": {},
   "outputs": [],
   "source": [
    "def plot_series(pm2_5_series):\n",
    "    plt.figure(figsize=(12, 6))\n",
    "    pm2_5_series.plot(title='pm2_5 Series')\n",
    "    plt.show()\n",
    "    "
   ]
  },
  {
   "cell_type": "code",
   "execution_count": null,
   "metadata": {},
   "outputs": [],
   "source": [
    "plot_series(pm2_5_series)"
   ]
  },
  {
   "cell_type": "code",
   "execution_count": 300,
   "metadata": {},
   "outputs": [],
   "source": [
    "# data preparation\n",
    "HORIZON    = 12            # one hour of 5-minute data\n",
    "LOOK_BACK  = 288           # 24 h history\n",
    "\n",
    "series = pm2_5_series.sort_index()          # ensure chronological order\n",
    "values = series.values.reshape(-1, 1).astype(\"float32\")\n",
    "\n",
    "scaler = MinMaxScaler()\n",
    "scaled = scaler.fit_transform(values)       # 0-to-1 scaling\n",
    "\n",
    "# build windows of shape (N, LOOK_BACK, 1) and labels (N, HORIZON)\n",
    "X, y = [], []\n",
    "for i in range(len(scaled) - LOOK_BACK - HORIZON + 1):\n",
    "    X.append(scaled[i : i + LOOK_BACK])\n",
    "    y.append(scaled[i + LOOK_BACK : i + LOOK_BACK + HORIZON])\n",
    "X = np.array(X, dtype=\"float32\")\n",
    "y = np.array(y, dtype=\"float32\")"
   ]
  },
  {
   "cell_type": "code",
   "execution_count": 301,
   "metadata": {},
   "outputs": [],
   "source": [
    "# split: 70 % train, 15 % val, 15 % test\n",
    "n_total = len(X)\n",
    "n_train = int(0.70 * n_total)\n",
    "n_val   = int(0.85 * n_total)\n",
    "\n",
    "X_train, y_train = X[:n_train],         y[:n_train]\n",
    "X_val,   y_val   = X[n_train:n_val],   y[n_train:n_val]\n",
    "X_test,  y_test  = X[n_val:],          y[n_val:]\n",
    "\n",
    "batch = 128\n",
    "train_ds = tf.data.Dataset.from_tensor_slices((X_train, y_train)).shuffle(1000).batch(batch).prefetch(1)\n",
    "val_ds   = tf.data.Dataset.from_tensor_slices((X_val,   y_val  )).batch(batch).prefetch(1)\n",
    "test_ds  = tf.data.Dataset.from_tensor_slices((X_test,  y_test )).batch(batch).prefetch(1)"
   ]
  },
  {
   "cell_type": "code",
   "execution_count": 302,
   "metadata": {},
   "outputs": [],
   "source": [
    "# model definition\n",
    "model = tf.keras.Sequential([\n",
    "    tf.keras.layers.Input(shape=(LOOK_BACK, 1)),\n",
    "    tf.keras.layers.LSTM(128, return_sequences=False),\n",
    "    tf.keras.layers.Dense(HORIZON)        \n",
    "])\n",
    "\n",
    "model.compile(\n",
    "    optimizer = tf.keras.optimizers.Adam(1e-3),\n",
    "    loss      = \"mse\",\n",
    "    metrics   = [tf.keras.metrics.RootMeanSquaredError(name=\"rmse\")]\n",
    ")\n",
    "\n",
    "callback = tf.keras.callbacks.EarlyStopping(\n",
    "    monitor  = \"val_loss\",\n",
    "    patience = 10,\n",
    "    restore_best_weights = True\n",
    ")"
   ]
  },
  {
   "cell_type": "code",
   "execution_count": null,
   "metadata": {},
   "outputs": [],
   "source": [
    "training\n",
    "history = model.fit(\n",
    "    train_ds,\n",
    "    epochs   = 8,\n",
    "    validation_data = val_ds,\n",
    "    callbacks = [callback],\n",
    "    verbose   = 2\n",
    ")\n",
    "\n",
    "plt.figure(figsize=(12, 4))\n",
    "plt.subplot(1, 2, 1)\n",
    "plt.plot(history.history['loss'], label='Training Loss')\n",
    "plt.title('Model Loss')\n",
    "plt.xlabel('Epoch')\n",
    "plt.ylabel('Loss')\n",
    "plt.legend()"
   ]
  },
  {
   "cell_type": "code",
   "execution_count": null,
   "metadata": {},
   "outputs": [],
   "source": [
    "# save or load\n",
    "\n",
    "# model.save(\"pm2_5_model.keras\")\n",
    "# joblib.dump(scaler, \"pm2_5_minmax.pkl\") \n",
    "\n",
    "# model  = tf.keras.models.load_model(\"pm2_5_model.keras\")\n"
   ]
  },
  {
   "cell_type": "code",
   "execution_count": null,
   "metadata": {},
   "outputs": [],
   "source": [
    "# evaluation\n",
    "pred_scaled = model.predict(test_ds, verbose=0)              # (N, 12)\n",
    "targ_scaled = np.vstack([y for _, y in test_ds])             # (N, 12)\n",
    "\n",
    "# inverse-scale to original units\n",
    "def invert(arr): return scaler.inverse_transform(arr.reshape(-1,1)).reshape(arr.shape)\n",
    "\n",
    "preds_mu   = invert(pred_scaled)\n",
    "targets_mu = invert(targ_scaled)\n",
    "\n",
    "targets_mu = targets_mu.squeeze(-1)\n",
    "\n",
    "mae  = mean_absolute_error(targets_mu, preds_mu)\n",
    "rmse = np.sqrt(mean_squared_error(targets_mu, preds_mu))\n",
    "\n",
    "print(f\"Test MAE  {mae:8.3f}   |   RMSE  {rmse:8.3f}\")"
   ]
  },
  {
   "cell_type": "code",
   "execution_count": null,
   "metadata": {},
   "outputs": [],
   "source": [
    "\n",
    "def plot_recent_forecasts(\n",
    "        series,          \n",
    "        preds_mu,        \n",
    "        targets_mu,      \n",
    "        look_back,       \n",
    "        horizon,         \n",
    "        num_windows=5):  \n",
    "\n",
    "    base_start = len(series) - look_back - horizon          # 0-based index\n",
    "    fig, axes = plt.subplots(num_windows, 1,\n",
    "                             figsize=(10, 3*num_windows),\n",
    "                             sharex=False)\n",
    "    if num_windows == 1:                                      # make iterable\n",
    "        axes = [axes]\n",
    "\n",
    "    for i in range(num_windows):\n",
    "        ax        = axes[i]\n",
    "        win_start = base_start - i                           # ith window back\n",
    "        t_axis    = series.index[win_start + look_back :\n",
    "                                 win_start + look_back + horizon]\n",
    "\n",
    "        truth = targets_mu[ -(i+1) ].squeeze()               # newest first\n",
    "        pred  =  preds_mu[ -(i+1) ].squeeze()\n",
    "\n",
    "        ax.plot(t_axis, truth, marker=\"o\", label=\"actual\")\n",
    "        ax.plot(t_axis, pred , marker=\"x\", label=\"predicted\")\n",
    "        ax.set_title(f\"Window starting {t_axis[0]}\")\n",
    "        ax.set_ylabel(\"PM2.5 (µg/m³)\")\n",
    "        ax.legend()\n",
    "\n",
    "    axes[-1].set_xlabel(\"time\")\n",
    "    plt.tight_layout()\n",
    "    plt.show()\n",
    "\n"
   ]
  },
  {
   "cell_type": "code",
   "execution_count": null,
   "metadata": {},
   "outputs": [],
   "source": [
    "plt.figure(figsize=(5,5))\n",
    "plt.scatter(targets_mu.flatten(), preds_mu.flatten(), alpha=0.35)\n",
    "lims = [\n",
    "    min(plt.xlim()[0], plt.ylim()[0]),\n",
    "    max(plt.xlim()[1], plt.ylim()[1])\n",
    "]\n",
    "plt.plot(lims, lims, linewidth=1)  \n",
    "plt.xlabel(\"actual  (µg/m³)\")\n",
    "plt.ylabel(\"predicted  (µg/m³)\")\n",
    "plt.title(\"All test-set forecasts\")\n",
    "plt.tight_layout()\n",
    "plt.show()"
   ]
  },
  {
   "cell_type": "code",
   "execution_count": null,
   "metadata": {},
   "outputs": [],
   "source": [
    "plot_recent_forecasts(\n",
    "    series     = pm2_5_series,\n",
    "    preds_mu   = preds_mu,\n",
    "    targets_mu = targets_mu,\n",
    "    look_back  = LOOK_BACK,\n",
    "    horizon    = HORIZON,\n",
    "    num_windows=50       \n",
    ")\n"
   ]
  },
  {
   "cell_type": "code",
   "execution_count": null,
   "metadata": {},
   "outputs": [],
   "source": [
    "def plot_full_test_forecast(\n",
    "        series,     \n",
    "        preds_mu,     \n",
    "        look_back,     \n",
    "        horizon):      \n",
    "\n",
    "    n_total_windows = len(series) - look_back - horizon + 1\n",
    "    start_test_window = n_total_windows - preds_mu.shape[0]\n",
    "\n",
    "    pred_dict = {}                          \n",
    "\n",
    "    for w_local in range(preds_mu.shape[0]):          \n",
    "        w_global = start_test_window + w_local       \n",
    "       \n",
    "        preds_w  = preds_mu[w_local].squeeze()       \n",
    "        for j in range(horizon):\n",
    "            t_idx = w_global + look_back + j          \n",
    "            ts    = series.index[t_idx]               \n",
    "            pred_dict.setdefault(ts, []).append(preds_w[j])\n",
    "\n",
    "    pred_series = pd.Series({ts: np.mean(vals) for ts, vals in pred_dict.items()}\n",
    "                            ).sort_index()\n",
    "\n",
    "    truth_series = series.loc[pred_series.index]\n",
    "\n",
    "    plt.figure(figsize=(12, 4))\n",
    "    plt.plot(truth_series.index, truth_series.values, label=\"actual\", linewidth=1.2)\n",
    "    plt.plot(pred_series.index , pred_series.values , label=\"predicted\", linewidth=1.0)\n",
    "    plt.title(f\"Full test span: {len(pred_series)} five-minute steps\")\n",
    "    plt.xlabel(\"time\")\n",
    "    plt.ylabel(\"PM2.5 (µg/m³)\")\n",
    "    plt.legend()\n",
    "    plt.tight_layout()\n",
    "    plt.show()\n",
    "\n",
    "plot_full_test_forecast(\n",
    "    series     = pm2_5_series,\n",
    "    preds_mu   = preds_mu,\n",
    "    look_back  = LOOK_BACK,\n",
    "    horizon    = HORIZON\n",
    ")\n"
   ]
  }
 ],
 "metadata": {
  "kernelspec": {
   "display_name": "Python 3",
   "language": "python",
   "name": "python3"
  },
  "language_info": {
   "codemirror_mode": {
    "name": "ipython",
    "version": 3
   },
   "file_extension": ".py",
   "mimetype": "text/x-python",
   "name": "python",
   "nbconvert_exporter": "python",
   "pygments_lexer": "ipython3",
   "version": "3.11.9"
  }
 },
 "nbformat": 4,
 "nbformat_minor": 2
}
