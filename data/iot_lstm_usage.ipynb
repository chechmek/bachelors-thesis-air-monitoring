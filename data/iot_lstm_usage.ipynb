{
 "cells": [
  {
   "cell_type": "code",
   "execution_count": 16,
   "metadata": {},
   "outputs": [],
   "source": [
    "import pandas as pd\n",
    "import numpy as np\n",
    "import matplotlib.pyplot as plt\n",
    "\n",
    "\n",
    "df = pd.read_csv('iot_telemetry_data_processed.csv')\n"
   ]
  },
  {
   "cell_type": "code",
   "execution_count": 27,
   "metadata": {},
   "outputs": [
    {
     "name": "stdout",
     "output_type": "stream",
     "text": [
      "2.17.0\n"
     ]
    }
   ],
   "source": [
    "import tensorflow as tf\n",
    "from joblib import load\n",
    "print(tf.__version__)\n",
    "\n",
    "model = tf.keras.models.load_model('pm2_5_model.keras')\n",
    "scaler = load(\"pm2_5_minmax.pkl\")\n",
    "\n"
   ]
  },
  {
   "cell_type": "code",
   "execution_count": 18,
   "metadata": {},
   "outputs": [],
   "source": [
    "import numpy as np\n",
    "\n",
    "def predict_pm2_5(raw_input_sequence, model, scaler):\n",
    "    input_array = np.array(raw_input_sequence).reshape((len(raw_input_sequence), 1)) # Shape: (288, 1)\n",
    "    \n",
    "    scaled_input = scaler.transform(input_array) # Shape: (288, 1)\n",
    "    \n",
    "    model_input = scaled_input.reshape((1, LOOK_BACK, 1)) \n",
    "    \n",
    "    raw_prediction = model.predict(model_input) \n",
    "    \n",
    "    prediction_to_inverse_scale = raw_prediction.reshape((HORIZON, 1)) \n",
    "    \n",
    "    unscaled_prediction = scaler.inverse_transform(prediction_to_inverse_scale) \n",
    "    \n",
    "    final_prediction = unscaled_prediction.flatten()\n",
    "    \n",
    "    return final_prediction\n",
    "\n",
    "\n",
    "\n"
   ]
  },
  {
   "cell_type": "code",
   "execution_count": 21,
   "metadata": {},
   "outputs": [
    {
     "name": "stdout",
     "output_type": "stream",
     "text": [
      "\u001b[1m1/1\u001b[0m \u001b[32m━━━━━━━━━━━━━━━━━━━━\u001b[0m\u001b[37m\u001b[0m \u001b[1m0s\u001b[0m 21ms/step\n",
      "Predicted next 12 values: [59.08805  58.25202  58.57143  58.455975 57.80942  58.335197 57.96901\n",
      " 57.92714  57.636425 57.724678 57.57661  57.730198]\n"
     ]
    }
   ],
   "source": [
    "HORIZON = 12\n",
    "LOOK_BACK = 288\n",
    "\n",
    "offset = 1000\n",
    "data = df['pm2_5'].values[offset:offset+300]\n",
    "data_to_predict = data[:LOOK_BACK]\n",
    "\n",
    "predictions = predict_pm2_5(data_to_predict, model, scaler)\n",
    "print(f\"Predicted next {HORIZON} values: {predictions}\")"
   ]
  }
 ],
 "metadata": {
  "kernelspec": {
   "display_name": "Python 3",
   "language": "python",
   "name": "python3"
  },
  "language_info": {
   "codemirror_mode": {
    "name": "ipython",
    "version": 3
   },
   "file_extension": ".py",
   "mimetype": "text/x-python",
   "name": "python",
   "nbconvert_exporter": "python",
   "pygments_lexer": "ipython3",
   "version": "3.11.9"
  }
 },
 "nbformat": 4,
 "nbformat_minor": 2
}
